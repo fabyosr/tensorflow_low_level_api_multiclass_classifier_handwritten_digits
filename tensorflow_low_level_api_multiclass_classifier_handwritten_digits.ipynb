{
 "cells": [
  {
   "cell_type": "markdown",
   "metadata": {},
   "source": [
    "# Handwritten digits classification using Tensorflow low level api multiclass classifier"
   ]
  },
  {
   "cell_type": "markdown",
   "metadata": {
    "heading_collapsed": true
   },
   "source": [
    "# 0 - IMPORTS"
   ]
  },
  {
   "cell_type": "code",
   "execution_count": 10,
   "metadata": {
    "ExecuteTime": {
     "end_time": "2020-12-09T20:58:27.814340Z",
     "start_time": "2020-12-09T20:58:22.289530Z"
    },
    "hidden": true
   },
   "outputs": [],
   "source": [
    "import tensorflow as tf\n",
    "import numpy as np\n",
    "import warnings\n",
    "import matplotlib.pyplot as plt\n",
    "\n",
    "\n",
    "from tensorflow.examples.tutorials.mnist import input_data\n",
    "\n",
    "\n",
    "warnings.filterwarnings('ignore')\n",
    "%matplotlib inline"
   ]
  },
  {
   "cell_type": "markdown",
   "metadata": {
    "heading_collapsed": true
   },
   "source": [
    "# 0 - LOAD DATASET"
   ]
  },
  {
   "cell_type": "code",
   "execution_count": 4,
   "metadata": {
    "ExecuteTime": {
     "end_time": "2020-12-09T20:53:18.389020Z",
     "start_time": "2020-12-09T20:53:17.797031Z"
    },
    "hidden": true
   },
   "outputs": [
    {
     "name": "stdout",
     "output_type": "stream",
     "text": [
      "Extracting mnist/train-images-idx3-ubyte.gz\n",
      "Extracting mnist/train-labels-idx1-ubyte.gz\n",
      "Extracting mnist/t10k-images-idx3-ubyte.gz\n",
      "Extracting mnist/t10k-labels-idx1-ubyte.gz\n"
     ]
    }
   ],
   "source": [
    "mnist = input_data.read_data_sets('mnist/', one_hot = True)"
   ]
  },
  {
   "cell_type": "markdown",
   "metadata": {
    "heading_collapsed": true
   },
   "source": [
    "# 1 - CREATE TRAIN & TEST DATASET"
   ]
  },
  {
   "cell_type": "code",
   "execution_count": 7,
   "metadata": {
    "ExecuteTime": {
     "end_time": "2020-12-09T20:56:39.928733Z",
     "start_time": "2020-12-09T20:56:39.921752Z"
    },
    "hidden": true
   },
   "outputs": [
    {
     "name": "stdout",
     "output_type": "stream",
     "text": [
      "Train dataset: 55000 rows,  784 columns\n",
      "\n",
      "Test dataset: 10000 rows,  784 columns\n"
     ]
    }
   ],
   "source": [
    "X_train = mnist.train.images\n",
    "y_train = mnist.train.labels\n",
    "X_test  = mnist.test.images\n",
    "y_test  = mnist.test.labels\n",
    "\n",
    "print('Train dataset: {} rows,  {} columns\\n'.format(X_train.shape[0], X_train.shape[1]) )\n",
    "print('Test dataset: {} rows,  {} columns'.format(X_test.shape[0], X_test.shape[1]) )"
   ]
  },
  {
   "cell_type": "code",
   "execution_count": 8,
   "metadata": {
    "ExecuteTime": {
     "end_time": "2020-12-09T20:57:15.995829Z",
     "start_time": "2020-12-09T20:57:15.846972Z"
    },
    "hidden": true
   },
   "outputs": [
    {
     "data": {
      "text/plain": [
       "array([0.        , 0.        , 0.        , 0.        , 0.        ,\n",
       "       0.        , 0.        , 0.        , 0.        , 0.        ,\n",
       "       0.        , 0.        , 0.        , 0.        , 0.        ,\n",
       "       0.        , 0.        , 0.        , 0.        , 0.        ,\n",
       "       0.        , 0.        , 0.        , 0.        , 0.        ,\n",
       "       0.        , 0.        , 0.        , 0.        , 0.        ,\n",
       "       0.        , 0.        , 0.        , 0.        , 0.        ,\n",
       "       0.        , 0.        , 0.        , 0.        , 0.        ,\n",
       "       0.        , 0.        , 0.        , 0.        , 0.        ,\n",
       "       0.        , 0.        , 0.        , 0.        , 0.        ,\n",
       "       0.        , 0.        , 0.        , 0.        , 0.        ,\n",
       "       0.        , 0.        , 0.        , 0.        , 0.        ,\n",
       "       0.        , 0.        , 0.        , 0.        , 0.        ,\n",
       "       0.        , 0.        , 0.        , 0.        , 0.        ,\n",
       "       0.        , 0.        , 0.        , 0.        , 0.        ,\n",
       "       0.        , 0.        , 0.        , 0.        , 0.        ,\n",
       "       0.        , 0.        , 0.        , 0.        , 0.        ,\n",
       "       0.        , 0.        , 0.        , 0.        , 0.        ,\n",
       "       0.        , 0.        , 0.        , 0.        , 0.        ,\n",
       "       0.        , 0.        , 0.        , 0.        , 0.        ,\n",
       "       0.        , 0.        , 0.        , 0.        , 0.        ,\n",
       "       0.        , 0.        , 0.        , 0.        , 0.        ,\n",
       "       0.        , 0.        , 0.        , 0.        , 0.        ,\n",
       "       0.        , 0.        , 0.        , 0.        , 0.        ,\n",
       "       0.        , 0.        , 0.        , 0.        , 0.        ,\n",
       "       0.        , 0.        , 0.        , 0.        , 0.        ,\n",
       "       0.        , 0.        , 0.        , 0.        , 0.        ,\n",
       "       0.        , 0.        , 0.        , 0.        , 0.        ,\n",
       "       0.        , 0.        , 0.        , 0.        , 0.        ,\n",
       "       0.        , 0.        , 0.        , 0.        , 0.        ,\n",
       "       0.        , 0.        , 0.        , 0.        , 0.        ,\n",
       "       0.        , 0.        , 0.        , 0.        , 0.        ,\n",
       "       0.        , 0.        , 0.        , 0.        , 0.        ,\n",
       "       0.        , 0.        , 0.        , 0.        , 0.        ,\n",
       "       0.        , 0.        , 0.        , 0.        , 0.        ,\n",
       "       0.        , 0.        , 0.        , 0.        , 0.        ,\n",
       "       0.        , 0.        , 0.        , 0.        , 0.        ,\n",
       "       0.        , 0.        , 0.        , 0.        , 0.        ,\n",
       "       0.        , 0.        , 0.        , 0.        , 0.        ,\n",
       "       0.        , 0.        , 0.        , 0.        , 0.        ,\n",
       "       0.        , 0.        , 0.        , 0.        , 0.        ,\n",
       "       0.        , 0.        , 0.3803922 , 0.37647063, 0.3019608 ,\n",
       "       0.46274513, 0.2392157 , 0.        , 0.        , 0.        ,\n",
       "       0.        , 0.        , 0.        , 0.        , 0.        ,\n",
       "       0.        , 0.        , 0.        , 0.        , 0.        ,\n",
       "       0.        , 0.        , 0.3529412 , 0.5411765 , 0.9215687 ,\n",
       "       0.9215687 , 0.9215687 , 0.9215687 , 0.9215687 , 0.9215687 ,\n",
       "       0.9843138 , 0.9843138 , 0.9725491 , 0.9960785 , 0.9607844 ,\n",
       "       0.9215687 , 0.74509805, 0.08235294, 0.        , 0.        ,\n",
       "       0.        , 0.        , 0.        , 0.        , 0.        ,\n",
       "       0.        , 0.        , 0.        , 0.        , 0.54901963,\n",
       "       0.9843138 , 0.9960785 , 0.9960785 , 0.9960785 , 0.9960785 ,\n",
       "       0.9960785 , 0.9960785 , 0.9960785 , 0.9960785 , 0.9960785 ,\n",
       "       0.9960785 , 0.9960785 , 0.9960785 , 0.9960785 , 0.9960785 ,\n",
       "       0.7411765 , 0.09019608, 0.        , 0.        , 0.        ,\n",
       "       0.        , 0.        , 0.        , 0.        , 0.        ,\n",
       "       0.        , 0.        , 0.8862746 , 0.9960785 , 0.81568635,\n",
       "       0.7803922 , 0.7803922 , 0.7803922 , 0.7803922 , 0.54509807,\n",
       "       0.2392157 , 0.2392157 , 0.2392157 , 0.2392157 , 0.2392157 ,\n",
       "       0.5019608 , 0.8705883 , 0.9960785 , 0.9960785 , 0.7411765 ,\n",
       "       0.08235294, 0.        , 0.        , 0.        , 0.        ,\n",
       "       0.        , 0.        , 0.        , 0.        , 0.        ,\n",
       "       0.14901961, 0.32156864, 0.0509804 , 0.        , 0.        ,\n",
       "       0.        , 0.        , 0.        , 0.        , 0.        ,\n",
       "       0.        , 0.        , 0.        , 0.        , 0.13333334,\n",
       "       0.8352942 , 0.9960785 , 0.9960785 , 0.45098042, 0.        ,\n",
       "       0.        , 0.        , 0.        , 0.        , 0.        ,\n",
       "       0.        , 0.        , 0.        , 0.        , 0.        ,\n",
       "       0.        , 0.        , 0.        , 0.        , 0.        ,\n",
       "       0.        , 0.        , 0.        , 0.        , 0.        ,\n",
       "       0.        , 0.        , 0.        , 0.32941177, 0.9960785 ,\n",
       "       0.9960785 , 0.9176471 , 0.        , 0.        , 0.        ,\n",
       "       0.        , 0.        , 0.        , 0.        , 0.        ,\n",
       "       0.        , 0.        , 0.        , 0.        , 0.        ,\n",
       "       0.        , 0.        , 0.        , 0.        , 0.        ,\n",
       "       0.        , 0.        , 0.        , 0.        , 0.        ,\n",
       "       0.        , 0.32941177, 0.9960785 , 0.9960785 , 0.9176471 ,\n",
       "       0.        , 0.        , 0.        , 0.        , 0.        ,\n",
       "       0.        , 0.        , 0.        , 0.        , 0.        ,\n",
       "       0.        , 0.        , 0.        , 0.        , 0.        ,\n",
       "       0.        , 0.        , 0.        , 0.        , 0.        ,\n",
       "       0.        , 0.        , 0.        , 0.4156863 , 0.6156863 ,\n",
       "       0.9960785 , 0.9960785 , 0.95294124, 0.20000002, 0.        ,\n",
       "       0.        , 0.        , 0.        , 0.        , 0.        ,\n",
       "       0.        , 0.        , 0.        , 0.        , 0.        ,\n",
       "       0.        , 0.        , 0.        , 0.        , 0.        ,\n",
       "       0.        , 0.09803922, 0.45882356, 0.8941177 , 0.8941177 ,\n",
       "       0.8941177 , 0.9921569 , 0.9960785 , 0.9960785 , 0.9960785 ,\n",
       "       0.9960785 , 0.94117653, 0.        , 0.        , 0.        ,\n",
       "       0.        , 0.        , 0.        , 0.        , 0.        ,\n",
       "       0.        , 0.        , 0.        , 0.        , 0.        ,\n",
       "       0.        , 0.        , 0.26666668, 0.4666667 , 0.86274517,\n",
       "       0.9960785 , 0.9960785 , 0.9960785 , 0.9960785 , 0.9960785 ,\n",
       "       0.9960785 , 0.9960785 , 0.9960785 , 0.9960785 , 0.5568628 ,\n",
       "       0.        , 0.        , 0.        , 0.        , 0.        ,\n",
       "       0.        , 0.        , 0.        , 0.        , 0.        ,\n",
       "       0.        , 0.        , 0.        , 0.14509805, 0.73333335,\n",
       "       0.9921569 , 0.9960785 , 0.9960785 , 0.9960785 , 0.8745099 ,\n",
       "       0.8078432 , 0.8078432 , 0.29411766, 0.26666668, 0.8431373 ,\n",
       "       0.9960785 , 0.9960785 , 0.45882356, 0.        , 0.        ,\n",
       "       0.        , 0.        , 0.        , 0.        , 0.        ,\n",
       "       0.        , 0.        , 0.        , 0.        , 0.        ,\n",
       "       0.4431373 , 0.8588236 , 0.9960785 , 0.9490197 , 0.89019614,\n",
       "       0.45098042, 0.34901962, 0.12156864, 0.        , 0.        ,\n",
       "       0.        , 0.        , 0.7843138 , 0.9960785 , 0.9450981 ,\n",
       "       0.16078432, 0.        , 0.        , 0.        , 0.        ,\n",
       "       0.        , 0.        , 0.        , 0.        , 0.        ,\n",
       "       0.        , 0.        , 0.        , 0.6627451 , 0.9960785 ,\n",
       "       0.6901961 , 0.24313727, 0.        , 0.        , 0.        ,\n",
       "       0.        , 0.        , 0.        , 0.        , 0.18823531,\n",
       "       0.9058824 , 0.9960785 , 0.9176471 , 0.        , 0.        ,\n",
       "       0.        , 0.        , 0.        , 0.        , 0.        ,\n",
       "       0.        , 0.        , 0.        , 0.        , 0.        ,\n",
       "       0.        , 0.07058824, 0.48627454, 0.        , 0.        ,\n",
       "       0.        , 0.        , 0.        , 0.        , 0.        ,\n",
       "       0.        , 0.        , 0.32941177, 0.9960785 , 0.9960785 ,\n",
       "       0.6509804 , 0.        , 0.        , 0.        , 0.        ,\n",
       "       0.        , 0.        , 0.        , 0.        , 0.        ,\n",
       "       0.        , 0.        , 0.        , 0.        , 0.        ,\n",
       "       0.        , 0.        , 0.        , 0.        , 0.        ,\n",
       "       0.        , 0.        , 0.        , 0.        , 0.        ,\n",
       "       0.54509807, 0.9960785 , 0.9333334 , 0.22352943, 0.        ,\n",
       "       0.        , 0.        , 0.        , 0.        , 0.        ,\n",
       "       0.        , 0.        , 0.        , 0.        , 0.        ,\n",
       "       0.        , 0.        , 0.        , 0.        , 0.        ,\n",
       "       0.        , 0.        , 0.        , 0.        , 0.        ,\n",
       "       0.        , 0.        , 0.8235295 , 0.9803922 , 0.9960785 ,\n",
       "       0.65882355, 0.        , 0.        , 0.        , 0.        ,\n",
       "       0.        , 0.        , 0.        , 0.        , 0.        ,\n",
       "       0.        , 0.        , 0.        , 0.        , 0.        ,\n",
       "       0.        , 0.        , 0.        , 0.        , 0.        ,\n",
       "       0.        , 0.        , 0.        , 0.        , 0.        ,\n",
       "       0.9490197 , 0.9960785 , 0.93725497, 0.22352943, 0.        ,\n",
       "       0.        , 0.        , 0.        , 0.        , 0.        ,\n",
       "       0.        , 0.        , 0.        , 0.        , 0.        ,\n",
       "       0.        , 0.        , 0.        , 0.        , 0.        ,\n",
       "       0.        , 0.        , 0.        , 0.        , 0.        ,\n",
       "       0.        , 0.        , 0.34901962, 0.9843138 , 0.9450981 ,\n",
       "       0.3372549 , 0.        , 0.        , 0.        , 0.        ,\n",
       "       0.        , 0.        , 0.        , 0.        , 0.        ,\n",
       "       0.        , 0.        , 0.        , 0.        , 0.        ,\n",
       "       0.        , 0.        , 0.        , 0.        , 0.        ,\n",
       "       0.        , 0.        , 0.        , 0.        , 0.01960784,\n",
       "       0.8078432 , 0.96470594, 0.6156863 , 0.        , 0.        ,\n",
       "       0.        , 0.        , 0.        , 0.        , 0.        ,\n",
       "       0.        , 0.        , 0.        , 0.        , 0.        ,\n",
       "       0.        , 0.        , 0.        , 0.        , 0.        ,\n",
       "       0.        , 0.        , 0.        , 0.        , 0.        ,\n",
       "       0.        , 0.        , 0.01568628, 0.45882356, 0.27058825,\n",
       "       0.        , 0.        , 0.        , 0.        , 0.        ,\n",
       "       0.        , 0.        , 0.        , 0.        , 0.        ,\n",
       "       0.        , 0.        , 0.        , 0.        , 0.        ,\n",
       "       0.        , 0.        , 0.        , 0.        , 0.        ,\n",
       "       0.        , 0.        , 0.        , 0.        , 0.        ,\n",
       "       0.        , 0.        , 0.        , 0.        , 0.        ,\n",
       "       0.        , 0.        , 0.        , 0.        , 0.        ,\n",
       "       0.        , 0.        , 0.        , 0.        ], dtype=float32)"
      ]
     },
     "execution_count": 8,
     "metadata": {},
     "output_type": "execute_result"
    }
   ],
   "source": [
    "X_train[0]"
   ]
  },
  {
   "cell_type": "code",
   "execution_count": 9,
   "metadata": {
    "ExecuteTime": {
     "end_time": "2020-12-09T20:57:38.388765Z",
     "start_time": "2020-12-09T20:57:38.345367Z"
    },
    "hidden": true
   },
   "outputs": [
    {
     "data": {
      "text/plain": [
       "array([0., 0., 0., 0., 0., 0., 0., 1., 0., 0.])"
      ]
     },
     "execution_count": 9,
     "metadata": {},
     "output_type": "execute_result"
    }
   ],
   "source": [
    "y_train[0]"
   ]
  },
  {
   "cell_type": "markdown",
   "metadata": {
    "hidden": true
   },
   "source": [
    "## 1.1 View handwritten image "
   ]
  },
  {
   "cell_type": "code",
   "execution_count": 13,
   "metadata": {
    "ExecuteTime": {
     "end_time": "2020-12-09T21:06:35.970521Z",
     "start_time": "2020-12-09T21:06:35.842713Z"
    },
    "hidden": true
   },
   "outputs": [
    {
     "data": {
      "text/plain": [
       "Text(0.5, 1.0, 'Classe: 7')"
      ]
     },
     "execution_count": 13,
     "metadata": {},
     "output_type": "execute_result"
    },
    {
     "data": {
      "image/png": "[encoded data removed]",
      "text/plain": [
       "<Figure size 432x288 with 1 Axes>"
      ]
     },
     "metadata": {
      "needs_background": "light"
     },
     "output_type": "display_data"
    }
   ],
   "source": [
    "plt.imshow(X_train[0].reshape((28,28)), cmap = 'gray') # reshape to matrix 28x28. 28 pixel x 28 pixel dimension for image data\n",
    "plt.title('Classe: ' + str(np.argmax(y_train[0])))"
   ]
  },
  {
   "cell_type": "markdown",
   "metadata": {
    "heading_collapsed": true
   },
   "source": [
    "# 2 - CREATE MODEL"
   ]
  },
  {
   "cell_type": "markdown",
   "metadata": {
    "hidden": true
   },
   "source": [
    "## 2.1 - Define Neural Network Structure "
   ]
  },
  {
   "cell_type": "code",
   "execution_count": 20,
   "metadata": {
    "ExecuteTime": {
     "end_time": "2020-12-09T22:21:07.268872Z",
     "start_time": "2020-12-09T22:21:07.232519Z"
    },
    "hidden": true
   },
   "outputs": [
    {
     "name": "stdout",
     "output_type": "stream",
     "text": [
      "Neural Network Structure\n",
      "\n",
      "Input layer neurons    : 784\n",
      "Hidden layer 1 neurons : 397\n",
      "Hidden layer 2 neurons : 397\n",
      "Hidden layer 3 neurons : 397\n",
      "Output layer neurons   : 10\n"
     ]
    }
   ],
   "source": [
    "input_layer    = X_train.shape[1]\n",
    "hidden_layer_1 = int((X_train.shape[1] + y_train.shape[1]) / 2)\n",
    "hidden_layer_2 = hidden_layer_1\n",
    "hidden_layer_3 = hidden_layer_1\n",
    "output_layer   = y_train.shape[1]\n",
    "\n",
    "print('Neural Network Structure\\n\\nInput layer neurons    : {}\\nHidden layer 1 neurons : {}\\nHidden layer 2 neurons : {}\\nHidden layer 3 neurons : {}\\nOutput layer neurons   : {}'.format(input_layer, hidden_layer_1, hidden_layer_2, hidden_layer_3, output_layer)) "
   ]
  },
  {
   "cell_type": "markdown",
   "metadata": {
    "hidden": true
   },
   "source": [
    "## 2.2 Create Tensor Weight Variables "
   ]
  },
  {
   "cell_type": "code",
   "execution_count": 21,
   "metadata": {
    "ExecuteTime": {
     "end_time": "2020-12-09T22:25:38.989097Z",
     "start_time": "2020-12-09T22:25:33.659170Z"
    },
    "hidden": true
   },
   "outputs": [],
   "source": [
    "W = {'hidden_1': tf.Variable( tf.random_normal( [input_layer,    hidden_layer_1] ) ),\n",
    "     'hidden_2': tf.Variable( tf.random_normal( [hidden_layer_1, hidden_layer_2] ) ),\n",
    "     'hidden_3': tf.Variable( tf.random_normal( [hidden_layer_2, hidden_layer_3] ) ),\n",
    "     'output'  : tf.Variable( tf.random_normal( [hidden_layer_3, output_layer] ) ) \n",
    "}"
   ]
  },
  {
   "cell_type": "markdown",
   "metadata": {
    "hidden": true
   },
   "source": [
    "## 2.3 Create Tensor Bias Variables "
   ]
  },
  {
   "cell_type": "code",
   "execution_count": 24,
   "metadata": {
    "ExecuteTime": {
     "end_time": "2020-12-09T22:47:12.467853Z",
     "start_time": "2020-12-09T22:47:12.160338Z"
    },
    "hidden": true
   },
   "outputs": [],
   "source": [
    "b = {'hidden_1': tf.Variable( tf.random_normal( [hidden_layer_1] ) ),\n",
    "     'hidden_2': tf.Variable( tf.random_normal( [hidden_layer_2] ) ),\n",
    "     'hidden_3': tf.Variable( tf.random_normal( [hidden_layer_3] ) ),\n",
    "     'output'  : tf.Variable( tf.random_normal( [output_layer] ) )   \n",
    "}"
   ]
  },
  {
   "cell_type": "markdown",
   "metadata": {
    "hidden": true
   },
   "source": [
    "## 2.4 Create Tensor Placeholders Variables "
   ]
  },
  {
   "cell_type": "code",
   "execution_count": 25,
   "metadata": {
    "ExecuteTime": {
     "end_time": "2020-12-09T22:47:13.752089Z",
     "start_time": "2020-12-09T22:47:13.422123Z"
    },
    "hidden": true
   },
   "outputs": [],
   "source": [
    "xph = tf.placeholder('float', [None, input_layer])\n",
    "yph = tf.placeholder('float', [None, output_layer])"
   ]
  },
  {
   "cell_type": "markdown",
   "metadata": {
    "hidden": true
   },
   "source": [
    "## 2.5 Define Model Function "
   ]
  },
  {
   "cell_type": "code",
   "execution_count": 26,
   "metadata": {
    "ExecuteTime": {
     "end_time": "2020-12-09T22:47:15.289706Z",
     "start_time": "2020-12-09T22:47:15.261742Z"
    },
    "hidden": true
   },
   "outputs": [],
   "source": [
    "def mlp(x, W, bias):\n",
    "    hidden_layer_1 = tf.nn.relu( tf.add( tf.matmul( x, W['hidden_1'] ), bias['hidden_1'] ) )\n",
    "    hidden_layer_2 = tf.nn.relu( tf.add( tf.matmul( hidden_layer_1, W['hidden_2']), bias['hidden_2'] ) )\n",
    "    hidden_layer_3 = tf.nn.relu( tf.add( tf.matmul( hidden_layer_2, W['hidden_3']), bias['hidden_3'] ) )\n",
    "    output_layer   = tf.add( tf.matmul( hidden_layer_3, W['output'] ), bias['output'] )\n",
    "    return output_layer"
   ]
  },
  {
   "cell_type": "markdown",
   "metadata": {},
   "source": [
    "# 3 - TRAINING MODEL"
   ]
  },
  {
   "cell_type": "markdown",
   "metadata": {},
   "source": [
    "## 3.1 - Define Model and Optimizers Variable"
   ]
  },
  {
   "cell_type": "code",
   "execution_count": 28,
   "metadata": {
    "ExecuteTime": {
     "end_time": "2020-12-09T22:47:39.160190Z",
     "start_time": "2020-12-09T22:47:37.926553Z"
    }
   },
   "outputs": [],
   "source": [
    "mlp_model           = mlp(xph, W, b)\n",
    "mlp_model_error     = tf.reduce_mean( tf.nn.softmax_cross_entropy_with_logits_v2(logits = mlp_model, labels = yph))\n",
    "mlp_model_optimizer = tf.train.AdamOptimizer( learning_rate = 0.0001).minimize(mlp_model_error)"
   ]
  },
  {
   "cell_type": "markdown",
   "metadata": {},
   "source": [
    "## 3.1 - Define Predictions Variable"
   ]
  },
  {
   "cell_type": "code",
   "execution_count": 32,
   "metadata": {
    "ExecuteTime": {
     "end_time": "2020-12-09T22:49:10.657169Z",
     "start_time": "2020-12-09T22:49:10.312272Z"
    }
   },
   "outputs": [],
   "source": [
    "mlp_model_prediction         = tf.nn.softmax(mlp_model)\n",
    "mlp_model_correct_prediction = tf.equal(tf.argmax(mlp_model_prediction, 1), tf.argmax(yph, 1))\n",
    "mlp_model_accuracy           = tf.reduce_mean(tf.cast(mlp_model_correct_prediction, tf.float32))"
   ]
  },
  {
   "cell_type": "markdown",
   "metadata": {},
   "source": [
    "## 3.1 - Train Model"
   ]
  },
  {
   "cell_type": "code",
   "execution_count": 38,
   "metadata": {
    "ExecuteTime": {
     "end_time": "2020-12-09T23:02:40.679582Z",
     "start_time": "2020-12-09T23:02:07.889719Z"
    }
   },
   "outputs": [
    {
     "name": "stdout",
     "output_type": "stream",
     "text": [
      "Epoch: 1 Model error: 31515.207 Model accuracy: [0.1015625]\n",
      "Epoch: 101 Model error: 17469.93 Model accuracy: [0.1640625]\n",
      "Epoch: 201 Model error: 9471.696 Model accuracy: [0.40625]\n",
      "Epoch: 301 Model error: 6401.4355 Model accuracy: [0.5]\n",
      "Epoch: 401 Model error: 6071.3 Model accuracy: [0.484375]\n",
      "Epoch: 501 Model error: 4327.716 Model accuracy: [0.65625]\n",
      "Epoch: 601 Model error: 3717.2202 Model accuracy: [0.7109375]\n",
      "Epoch: 701 Model error: 3701.4302 Model accuracy: [0.703125]\n",
      "Epoch: 801 Model error: 2617.9897 Model accuracy: [0.75]\n",
      "Epoch: 901 Model error: 2192.6565 Model accuracy: [0.78125]\n",
      "Epoch: 1001 Model error: 2570.5967 Model accuracy: [0.7734375]\n",
      "Epoch: 1101 Model error: 2201.739 Model accuracy: [0.7890625]\n",
      "Epoch: 1201 Model error: 1453.5481 Model accuracy: [0.8203125]\n",
      "Epoch: 1301 Model error: 2250.1802 Model accuracy: [0.7734375]\n",
      "Epoch: 1401 Model error: 2065.444 Model accuracy: [0.7578125]\n",
      "Epoch: 1501 Model error: 2159.879 Model accuracy: [0.78125]\n",
      "Epoch: 1601 Model error: 2184.6772 Model accuracy: [0.7578125]\n",
      "Epoch: 1701 Model error: 1447.5665 Model accuracy: [0.828125]\n",
      "Epoch: 1801 Model error: 1713.3508 Model accuracy: [0.828125]\n",
      "Epoch: 1901 Model error: 898.52356 Model accuracy: [0.890625]\n",
      "Epoch: 2001 Model error: 1217.66 Model accuracy: [0.875]\n",
      "Epoch: 2101 Model error: 1854.5819 Model accuracy: [0.8046875]\n",
      "Epoch: 2201 Model error: 1575.5463 Model accuracy: [0.8203125]\n",
      "Epoch: 2301 Model error: 1515.1859 Model accuracy: [0.8203125]\n",
      "Epoch: 2401 Model error: 939.34393 Model accuracy: [0.875]\n",
      "Epoch: 2501 Model error: 2002.4142 Model accuracy: [0.8203125]\n",
      "Epoch: 2601 Model error: 1237.2053 Model accuracy: [0.8671875]\n",
      "Epoch: 2701 Model error: 856.912 Model accuracy: [0.859375]\n",
      "Epoch: 2801 Model error: 1033.276 Model accuracy: [0.875]\n",
      "Epoch: 2901 Model error: 1517.686 Model accuracy: [0.8671875]\n",
      "Epoch: 3001 Model error: 1141.8447 Model accuracy: [0.859375]\n",
      "Epoch: 3101 Model error: 895.8706 Model accuracy: [0.8828125]\n",
      "Epoch: 3201 Model error: 943.72034 Model accuracy: [0.859375]\n",
      "Epoch: 3301 Model error: 715.0108 Model accuracy: [0.8984375]\n",
      "Epoch: 3401 Model error: 780.801 Model accuracy: [0.890625]\n",
      "Epoch: 3501 Model error: 1255.5535 Model accuracy: [0.859375]\n",
      "Epoch: 3601 Model error: 819.15753 Model accuracy: [0.8671875]\n",
      "Epoch: 3701 Model error: 177.55824 Model accuracy: [0.953125]\n",
      "Epoch: 3801 Model error: 677.6283 Model accuracy: [0.9140625]\n",
      "Epoch: 3901 Model error: 547.2368 Model accuracy: [0.8359375]\n",
      "Epoch: 4001 Model error: 1311.1506 Model accuracy: [0.859375]\n",
      "Epoch: 4101 Model error: 488.38602 Model accuracy: [0.890625]\n",
      "Epoch: 4201 Model error: 482.83096 Model accuracy: [0.9140625]\n",
      "Epoch: 4301 Model error: 947.008 Model accuracy: [0.890625]\n",
      "Epoch: 4401 Model error: 692.45874 Model accuracy: [0.921875]\n",
      "Epoch: 4501 Model error: 610.1387 Model accuracy: [0.90625]\n",
      "Epoch: 4601 Model error: 770.8036 Model accuracy: [0.90625]\n",
      "Epoch: 4701 Model error: 1153.4451 Model accuracy: [0.8984375]\n",
      "Epoch: 4801 Model error: 312.41895 Model accuracy: [0.921875]\n",
      "Epoch: 4901 Model error: 958.416 Model accuracy: [0.875]\n",
      "Training Done!\n",
      "Model Accuracy: 0.8917999863624573\n"
     ]
    }
   ],
   "source": [
    "with tf.Session() as sess:\n",
    "    sess.run(tf.global_variables_initializer())\n",
    "    for epoch in range(5000):\n",
    "        X_batch, y_batch = mnist.train.next_batch(128)\n",
    "        _, cost = sess.run([mlp_model_optimizer, mlp_model_error], feed_dict = {xph: X_batch, yph: y_batch})\n",
    "        if epoch % 100 == 0:\n",
    "            acc = sess.run([mlp_model_accuracy], feed_dict = {xph: X_batch, yph: y_batch})\n",
    "            print('Epoch: ' + str((epoch + 1)) + ' Model error: ' + str(cost) + ' Model accuracy: ' + str(acc))\n",
    "            \n",
    "    print('Training Done!')\n",
    "    print('Model Accuracy: {}'.format(sess.run(mlp_model_accuracy, feed_dict = {xph: X_test, yph: y_test})))"
   ]
  }
 ],
 "metadata": {
  "kernelspec": {
   "display_name": "Python 3",
   "language": "python",
   "name": "python3"
  },
  "language_info": {
   "codemirror_mode": {
    "name": "ipython",
    "version": 3
   },
   "file_extension": ".py",
   "mimetype": "text/x-python",
   "name": "python",
   "nbconvert_exporter": "python",
   "pygments_lexer": "ipython3",
   "version": "3.7.9"
  }
 },
 "nbformat": 4,
 "nbformat_minor": 2
}
